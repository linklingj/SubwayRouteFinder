{
  "nbformat": 4,
  "nbformat_minor": 0,
  "metadata": {
    "colab": {
      "provenance": [],
      "authorship_tag": "ABX9TyOBjufPX614WXoJk7e/2mjA",
      "include_colab_link": true
    },
    "kernelspec": {
      "name": "python3",
      "display_name": "Python 3"
    },
    "language_info": {
      "name": "python"
    }
  },
  "cells": [
    {
      "cell_type": "markdown",
      "metadata": {
        "id": "view-in-github",
        "colab_type": "text"
      },
      "source": [
        "<a href=\"https://colab.research.google.com/github/linklingj/SubwayRouteFinder/blob/main/SubwayRouteFinder.ipynb\" target=\"_parent\"><img src=\"https://colab.research.google.com/assets/colab-badge.svg\" alt=\"Open In Colab\"/></a>"
      ]
    },
    {
      "cell_type": "code",
      "execution_count": null,
      "metadata": {
        "id": "stvlygIydd8v"
      },
      "outputs": [],
      "source": [
        "import pandas as pd"
      ]
    },
    {
      "cell_type": "markdown",
      "source": [
        "정보 받아오기"
      ],
      "metadata": {
        "id": "jXiAsV7K3ydi"
      }
    },
    {
      "cell_type": "code",
      "source": [
        "subway_line = pd.read_csv('서울교통공사 노선별 지하철역 정보.csv', encoding='cp949')\n",
        "station_pos = pd.read_csv('지하철역_좌표.csv', encoding='cp949')\n",
        "node = pd.read_csv('역간_소요시간.csv',)\n",
        "\n",
        "print(subway_line)\n",
        "print(station_pos)\n",
        "print(node)\n",
        "\n",
        "stations = []\n",
        "#print(subway_line.loc[:3, ['전철역명', '호선']])\n",
        "#for station in subway_line.loc:\n",
        "#  print(station['전철역명'])"
      ],
      "metadata": {
        "colab": {
          "base_uri": "https://localhost:8080/"
        },
        "id": "wIq99UE4hzDt",
        "outputId": "b0e9bbc0-070e-4604-f514-c5e36efe821a"
      },
      "execution_count": null,
      "outputs": [
        {
          "output_type": "stream",
          "name": "stdout",
          "text": [
            "    전철역코드     전철역명                  전철명명(영문)     호선  외부코드 전철명명(중문)  \\\n",
            "0    1916      소요산                   Soyosan   01호선   100      逍遙山   \n",
            "1    1915      동두천               Dongducheon   01호선   101      東豆川   \n",
            "2    1914       보산                     Bosan   01호선   102       保山   \n",
            "3    1913    동두천중앙       Dongducheon jungang   01호선   103    東豆川中央   \n",
            "4    1912       지행                   Jihaeng   01호선   104       紙杏   \n",
            "..    ...      ...                       ...    ...   ...      ...   \n",
            "772  4512  운동장.송담대  Stadium, Songdam College  용인경전철  Y120  運動場 松潭大   \n",
            "773  4513       고진                     Gojin  용인경전철  Y121       古陣   \n",
            "774  4514       보평                  Bopyeong  용인경전철  Y123       洑坪   \n",
            "775  4515       둔전                   Dunjeon  용인경전철  Y125       屯田   \n",
            "776  4517  전대.에버랜드         Jeondae, Everland  용인경전철  Y126  前垈 愛寶樂園   \n",
            "\n",
            "           전철명명(일문)  \n",
            "0               逍遙山  \n",
            "1               東豆川  \n",
            "2                保山  \n",
            "3             東豆川中央  \n",
            "4                紙杏  \n",
            "..              ...  \n",
            "772  ウンドンジャン, ソンダムデ  \n",
            "773             コジン  \n",
            "774            ポピョン  \n",
            "775          トゥンジョン  \n",
            "776    チョンデ, エバ？ランド  \n",
            "\n",
            "[777 rows x 7 columns]\n",
            "       서울역(1)     시청(1)  2\n",
            "0      서울역(1)    서울역(4)  5\n",
            "1       시청(1)     시청(2)  5\n",
            "2       시청(1)     종각(1)  3\n",
            "3       종각(1)   종로3가(1)  1\n",
            "4     종로3가(1)   종로3가(3)  5\n",
            "..        ...       ... ..\n",
            "110    신용산(4)     이촌(4)  2\n",
            "111     이촌(4)     동작(4)  4\n",
            "112     동작(4)  총신대입구(4)  3\n",
            "113  총신대입구(4)     사당(4)  2\n",
            "114     사당(4)    남태령(4)  1\n",
            "\n",
            "[115 rows x 3 columns]\n"
          ]
        }
      ]
    },
    {
      "cell_type": "code",
      "source": [
        "print(subway_line.iloc[:3, :3])"
      ],
      "metadata": {
        "id": "ifyNGbfggddf",
        "colab": {
          "base_uri": "https://localhost:8080/"
        },
        "outputId": "1387ad52-3310-445b-d682-6f76dc0a43b5"
      },
      "execution_count": null,
      "outputs": [
        {
          "output_type": "stream",
          "name": "stdout",
          "text": [
            "  전철역코드 전철역명     전철명명(영문)\n",
            "0  1916  소요산      Soyosan\n",
            "1  1915  동두천  Dongducheon\n",
            "2  1914   보산        Bosan\n"
          ]
        }
      ]
    },
    {
      "cell_type": "code",
      "source": [
        "print(subway_line[subway_line['호선'] == '신분당선'])"
      ],
      "metadata": {
        "id": "UDu6vSBQmSN9",
        "colab": {
          "base_uri": "https://localhost:8080/"
        },
        "outputId": "9b7d2dd2-b8d9-4000-b6ae-bd64c8ce6146"
      },
      "execution_count": null,
      "outputs": [
        {
          "output_type": "stream",
          "name": "stdout",
          "text": [
            "    전철역코드    전철역명                  전철명명(영문)    호선 외부코드 전철명명(중문)  \\\n",
            "463  4310   청계산입구              Cheonggyesan  신분당선  D10    淸溪山入口   \n",
            "464  4311      판교                    Pangyo  신분당선  D11       板橋   \n",
            "465  4312      정자                   Jeongja  신분당선  D12       亭子   \n",
            "466  4313      미금                    Migeum  신분당선  D13       美金   \n",
            "467  4314      동천                 Dongcheon  신분당선  D14       東川   \n",
            "468  4315    수지구청            Suji-gu office  신분당선  D15     水枝區廳   \n",
            "469  4316      성복                  Seongbok  신분당선  D16       星福   \n",
            "470  4317      상현                 Sanghyeon  신분당선  D17       上峴   \n",
            "471  4318    광교중앙           GwanggyoJungang  신분당선  D18     光敎中央   \n",
            "472  4319      광교                  Gwanggyo  신분당선  D19       光敎   \n",
            "473  4304      신사                     Sinsa  신분당선   D4       新沙   \n",
            "474  4305      논현                  Nonhyeon  신분당선   D5       ??   \n",
            "475  4306     신논현               Sinnonhyeon  신분당선   D6       江南   \n",
            "476  4307      강남                   Gangnam  신분당선   D7       江南   \n",
            "477  4308      양재                   Yangjae  신분당선   D8       良才   \n",
            "478  4309  양재시민의숲  Yangjae Citizen's Forest  신분당선   D9   良才市民之林   \n",
            "\n",
            "                     전철명명(일문)  \n",
            "463                     淸溪山入口  \n",
            "464                        板橋  \n",
            "465                        亭子  \n",
            "466                       ミグム  \n",
            "467                     トンチョン  \n",
            "468                    スヅグチョン  \n",
            "469                      ソンボク  \n",
            "470                     サンヒョン  \n",
            "471                クァンギョジュンアン  \n",
            "472                     クァンギョ  \n",
            "473                       シンサ  \n",
            "474                     ノンヒョン  \n",
            "475                      カンナム  \n",
            "476                        江南  \n",
            "477                        良才  \n",
            "478  Yangjae Citizen's Forest  \n"
          ]
        }
      ]
    },
    {
      "cell_type": "code",
      "source": [],
      "metadata": {
        "id": "R_QEpywnmZQ8"
      },
      "execution_count": null,
      "outputs": []
    }
  ]
}